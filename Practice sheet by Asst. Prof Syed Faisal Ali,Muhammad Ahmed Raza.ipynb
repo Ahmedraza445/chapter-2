{
 "cells": [
  {
   "cell_type": "raw",
   "metadata": {},
   "source": [
    "Question 1: Create a function to find the following: If the base of triangle is 3 cm long and its equilateral triangle and the radius of circle is 1.5 cm then find the area of triangle shaded."
   ]
  },
  {
   "cell_type": "code",
   "execution_count": 2,
   "metadata": {},
   "outputs": [
    {
     "data": {
      "text/plain": [
       "5.0"
      ]
     },
     "execution_count": 2,
     "metadata": {},
     "output_type": "execute_result"
    }
   ],
   "source": [
    "def area(b,r):\n",
    "    h=b*r/2\n",
    "    return h\n",
    "area(4,2.5)"
   ]
  },
  {
   "cell_type": "raw",
   "metadata": {},
   "source": [
    "Question 2: Create a function which can read a dictionary of your family members such as 5 members. 1 Abbu, 1 Ammi, 2 Brothers 1 Sister. Now feed this data in dictionary in terms of name and relations. The UDF will ask findrelation() in this you will enter Brother it will return the names of two brothers you have inserted. In case if the relation is not found it will return “Sorry the relation doesn’t exist in your family.”"
   ]
  },
  {
   "cell_type": "code",
   "execution_count": 3,
   "metadata": {},
   "outputs": [
    {
     "data": {
      "text/plain": [
       "'ahmed, hasan'"
      ]
     },
     "execution_count": 3,
     "metadata": {},
     "output_type": "execute_result"
    }
   ],
   "source": [
    "def findrelation(d):\n",
    "    dict = {'father':'Asif' , 'brother':'ahmed, hasan' , 'sister':'ume hani' , 'mother':'mom'}\n",
    "    a = dict[d]\n",
    "    return a\n",
    "findrelation('brother')"
   ]
  },
  {
   "cell_type": "raw",
   "metadata": {},
   "source": [
    "Question 3: Create a function to find the following: If the base of triangle is 5 cm long and its equilateral triangle and the radius of circle is 2.25 cm then find the area of triangle shaded."
   ]
  },
  {
   "cell_type": "code",
   "execution_count": 4,
   "metadata": {},
   "outputs": [
    {
     "data": {
      "text/plain": [
       "10.825317547305483"
      ]
     },
     "execution_count": 4,
     "metadata": {},
     "output_type": "execute_result"
    }
   ],
   "source": [
    "import math\n",
    "def func(b):\n",
    "    h=b**2*((math.sqrt(3))/4)\n",
    "    return(h)\n",
    "func(5)"
   ]
  },
  {
   "cell_type": "raw",
   "metadata": {},
   "source": [
    "Question 4: Create a function that takes a list of random numbers from users and add only those which are even. If all the numbers are odd it will return sorry no even number found"
   ]
  },
  {
   "cell_type": "code",
   "execution_count": 5,
   "metadata": {},
   "outputs": [
    {
     "name": "stdout",
     "output_type": "stream",
     "text": [
      "No even found!\n",
      "2\n",
      "('sum of even no:', 2)\n",
      "4\n",
      "('sum of even no:', 6)\n",
      "No even found!\n",
      "6\n",
      "('sum of even no:', 12)\n",
      "No even found!\n",
      "8\n",
      "('sum of even no:', 20)\n",
      "10\n",
      "('sum of even no:', 30)\n",
      "None\n"
     ]
    }
   ],
   "source": [
    "def ev(l):\n",
    "    s=0\n",
    "    for i in l:\n",
    "        if i%2==0:\n",
    "            print(i)\n",
    "            s = s+i\n",
    "            print(\"sum of even no:\",s)\n",
    "        else:\n",
    "            print(\"No even found!\")\n",
    "print(ev([1,2,4,5,6,7,8,10]))"
   ]
  },
  {
   "cell_type": "raw",
   "metadata": {},
   "source": [
    "Question 5: Write a function which can take a list of numbers and it will return sorted list"
   ]
  },
  {
   "cell_type": "code",
   "execution_count": 6,
   "metadata": {},
   "outputs": [
    {
     "name": "stdout",
     "output_type": "stream",
     "text": [
      "['2', '3', '5', '6']\n"
     ]
    }
   ],
   "source": [
    "def re(l):\n",
    "    return sorted(l)\n",
    "print (re(['6','5','3','2']))\n"
   ]
  },
  {
   "cell_type": "raw",
   "metadata": {},
   "source": [
    "Question 6: Write a function that will take the radius and return the perimeter and area of circle with 5% increment."
   ]
  },
  {
   "cell_type": "code",
   "execution_count": 8,
   "metadata": {},
   "outputs": [
    {
     "name": "stdout",
     "output_type": "stream",
     "text": [
      "('Perimeter', 37.69911184307752)\n",
      "('Area of Circle:', 339.29200658769764)\n",
      "\n"
     ]
    }
   ],
   "source": [
    "from math import pi\n",
    "def area_circle(r):\n",
    "    area=pi*(r**2)\n",
    "    a = area+(area*2)\n",
    "    print(\"Perimeter\",2*pi*r)\n",
    "    print(\"Area of Circle:\",a)\n",
    "    return \"\"\n",
    "print(area_circle(6))"
   ]
  },
  {
   "cell_type": "code",
   "execution_count": 9,
   "metadata": {},
   "outputs": [
    {
     "data": {
      "text/plain": [
       "(113.09733552923255, 37.69911184307752)"
      ]
     },
     "execution_count": 9,
     "metadata": {},
     "output_type": "execute_result"
    }
   ],
   "source": [
    "from math import pi\n",
    "def radius(r):\n",
    "    area=pi*r**2\n",
    "    perimeter=2*pi*r\n",
    "    return(area,perimeter)\n",
    "radius(6)"
   ]
  },
  {
   "cell_type": "raw",
   "metadata": {},
   "source": [
    "Question 7: Write a function that will take the strings as argument and return number of vowels and consonants."
   ]
  },
  {
   "cell_type": "code",
   "execution_count": 10,
   "metadata": {},
   "outputs": [
    {
     "name": "stdout",
     "output_type": "stream",
     "text": [
      "('ahmed', 'is a Consonant')\n"
     ]
    }
   ],
   "source": [
    "def hyt(hy):\n",
    "    if(hy in 'A' or hy in 'a' or hy in 'E' or hy in 'e' or hy in 'I' or hy in 'i' or hy in 'O' or hy in 'o' or hy in 'U' or hy in 'u'):\n",
    "        print(hy, \"is a Vowel\")\n",
    "    else:\n",
    "        print(hy, \"is a Consonant\")\n",
    "        \n",
    "hyt('ahmed') "
   ]
  },
  {
   "cell_type": "code",
   "execution_count": 6,
   "metadata": {},
   "outputs": [
    {
     "name": "stdout",
     "output_type": "stream",
     "text": [
      "('Numbers of vowels:', 2)\n",
      "('Numbers of consonants:', 3)\n"
     ]
    }
   ],
   "source": [
    "def st(vc):\n",
    "    countv = 0\n",
    "    countc = 0\n",
    "    for i in vc:\n",
    "        if i in \"AEIOU\" or i in \"aeiou\":\n",
    "            countv += 1\n",
    "        else:\n",
    "            countc += 1\n",
    "    print(\"Numbers of vowels:\",countv)\n",
    "    print(\"Numbers of consonants:\",countc)\n",
    "st('ahmed')    \n"
   ]
  },
  {
   "cell_type": "raw",
   "metadata": {},
   "source": [
    "Question 8: Write a function that will take length and breadth for a rectangle and return perimeter and area of rectangle with 8% increment"
   ]
  },
  {
   "cell_type": "code",
   "execution_count": 8,
   "metadata": {},
   "outputs": [
    {
     "name": "stdout",
     "output_type": "stream",
     "text": [
      "('area of rectangle:', 37.8)\n",
      "('perimeter:', 24)\n"
     ]
    }
   ],
   "source": [
    "from math import pi\n",
    "def rec(l,b):\n",
    "    area=l*b\n",
    "    a=area+(area*0.08)\n",
    "    print(\"area of rectangle:\",a)\n",
    "    print(\"perimeter:\",2*(l+b))\n",
    "rec(5,7)"
   ]
  },
  {
   "cell_type": "raw",
   "metadata": {},
   "source": [
    "Question 9: Write a function that can take the numbers in strings. From string find which number is even and which one is odd. Save them in two different lists and generate the result."
   ]
  },
  {
   "cell_type": "code",
   "execution_count": 9,
   "metadata": {},
   "outputs": [
    {
     "name": "stdout",
     "output_type": "stream",
     "text": [
      "('Numbers of Even :', 4)\n",
      "('Numbers of odd:', 5)\n",
      "('List of even:', ['2', '4', '6', '8'])\n",
      "('List of odd:', ['1', '3', '5', '7', '9'])\n"
     ]
    }
   ],
   "source": [
    "s = \"123456789\"\n",
    "e = 0\n",
    "o = 0\n",
    "el = []\n",
    "ol = []\n",
    "for i in s:\n",
    "    if int(i)%2==0:\n",
    "        e += 1\n",
    "        el.append(i)\n",
    "    else:\n",
    "        o += 1\n",
    "        ol.append(i)\n",
    "print('Numbers of Even :',e)\n",
    "print('Numbers of odd:',o)\n",
    "print(\"List of even:\",el)\n",
    "print(\"List of odd:\",ol)"
   ]
  },
  {
   "cell_type": "raw",
   "metadata": {},
   "source": [
    "Question 10: Write a function which will take the string from the user and return how many alphabets have been used in it and which alphabets are missing."
   ]
  },
  {
   "cell_type": "code",
   "execution_count": 10,
   "metadata": {},
   "outputs": [
    {
     "name": "stdout",
     "output_type": "stream",
     "text": [
      "5\n",
      "bcfgijklnopqrstuvwxyz\n"
     ]
    }
   ],
   "source": [
    "s = 'ahmed'\n",
    "n = 0\n",
    "az = 'abcdefghijklmnopqrstuvwxyz'\n",
    "for i in s:\n",
    "    if i in az:\n",
    "        az = az.replace(i,\"\")\n",
    "        n += 1\n",
    "print(n)\n",
    "#\n",
    "print(az)"
   ]
  },
  {
   "cell_type": "raw",
   "metadata": {},
   "source": [
    "Question 11: Write a function that will take verbs in words and return a list of verbs with continuous tense by adding (ing) at the end of each verb."
   ]
  },
  {
   "cell_type": "code",
   "execution_count": 11,
   "metadata": {},
   "outputs": [
    {
     "name": "stdout",
     "output_type": "stream",
     "text": [
      "('verb', 'singing')\n"
     ]
    }
   ],
   "source": [
    "def verb(s):\n",
    "    if s[-1] == 'e':\n",
    "        s = s.replace(s[-1],\"\")\n",
    "        print(\"verb\",s+\"ing\")\n",
    "    else:\n",
    "        print(\"verb\",s+\"ing\")\n",
    "verb('sing')"
   ]
  },
  {
   "cell_type": "raw",
   "metadata": {},
   "source": [
    "Question 12: Make a function which can take two radius of circles and find the areas of it and subtract smaller one from larger one and tell the remaining area of circle."
   ]
  },
  {
   "cell_type": "code",
   "execution_count": 12,
   "metadata": {},
   "outputs": [
    {
     "name": "stdout",
     "output_type": "stream",
     "text": [
      "7539.82236862\n"
     ]
    }
   ],
   "source": [
    "from math import pi\n",
    "def cc(r,rr):\n",
    "    a = pi*(r**2)\n",
    "    aa = pi*(rr**2)\n",
    "    if a > aa:\n",
    "        fa = (aa - a)\n",
    "    else:\n",
    "        fa = (a - aa)\n",
    "    return abs(fa)\n",
    "print(cc(50,10))"
   ]
  },
  {
   "cell_type": "raw",
   "metadata": {},
   "source": [
    "Question 13: Write a function that will take a string and calculate number of Upper case letters and lower case letters."
   ]
  },
  {
   "cell_type": "code",
   "execution_count": 13,
   "metadata": {},
   "outputs": [
    {
     "name": "stdout",
     "output_type": "stream",
     "text": [
      "(4, 1)\n",
      "None\n"
     ]
    }
   ],
   "source": [
    "def ul(s):\n",
    "    nu = 0\n",
    "    nl = 0\n",
    "    u = 'ABCDEFGHIJKLMNOPQRSTUVWXYZ'\n",
    "    l = 'abcdefghijklmnopqrstuvwxyz'\n",
    "    for i in s:\n",
    "        if i in u:\n",
    "            nu = nu+1\n",
    "        if i in l:\n",
    "            nl = nl+1\n",
    "    print(nl,nu)\n",
    "print(ul(\"Ahmed\"))"
   ]
  },
  {
   "cell_type": "raw",
   "metadata": {},
   "source": [
    "Question 14: Write a function which will take length and breadth of two rectangles. Subtract the smaller rectangle from the larger rectangle and return the area left behind"
   ]
  },
  {
   "cell_type": "code",
   "execution_count": 14,
   "metadata": {},
   "outputs": [
    {
     "name": "stdout",
     "output_type": "stream",
     "text": [
      "40\n"
     ]
    }
   ],
   "source": [
    "def cc(l,b,ll,bb):\n",
    "    a = l*b\n",
    "    aa = ll*bb\n",
    "    if a > aa:\n",
    "        fa = (aa - a)\n",
    "    else:\n",
    "        fa = (a - aa)\n",
    "    return abs(fa)\n",
    "print(cc(5,2,5,10))"
   ]
  },
  {
   "cell_type": "raw",
   "metadata": {},
   "source": [
    "Question 15: Create a function that can add the fractions in series such as 1 to 8 = 1/8+1/7+1/6+1/5 …… ½ and return the result in fraction not in decimal."
   ]
  },
  {
   "cell_type": "code",
   "execution_count": 16,
   "metadata": {},
   "outputs": [
    {
     "name": "stdout",
     "output_type": "stream",
     "text": [
      "761/280\n"
     ]
    }
   ],
   "source": [
    "from fractions import Fraction\n",
    "i = 1 \n",
    "f = 9\n",
    "ff = 0\n",
    "for ii in range(i,f):\n",
    "    ff = ff + Fraction(1,ii)\n",
    "print(ff)"
   ]
  },
  {
   "cell_type": "raw",
   "metadata": {},
   "source": [
    "Question 17: Write a function which will take a list of fruits names. The function will return how many alphabets are repetitive in the names of fruits and how many are unique letters."
   ]
  },
  {
   "cell_type": "code",
   "execution_count": 17,
   "metadata": {},
   "outputs": [
    {
     "name": "stdout",
     "output_type": "stream",
     "text": [
      "('rep', 0)\n"
     ]
    }
   ],
   "source": [
    "s = 'mango'\n",
    "ss = \"\"\n",
    "nn = 0\n",
    "for i in s:\n",
    "    n = s.count(i)\n",
    "    if n > 1:\n",
    "        nn = nn + 1\n",
    "print('rep',nn)\n"
   ]
  },
  {
   "cell_type": "raw",
   "metadata": {},
   "source": [
    "Question 18: Write a function that can take square length and radius of circle. Find the area of both and subtract the smallest shape from largest one and return the remaining shape area."
   ]
  },
  {
   "cell_type": "code",
   "execution_count": 18,
   "metadata": {},
   "outputs": [
    {
     "name": "stdout",
     "output_type": "stream",
     "text": [
      "25\n",
      "78.55\n"
     ]
    },
    {
     "data": {
      "text/plain": [
       "53.55"
      ]
     },
     "execution_count": 18,
     "metadata": {},
     "output_type": "execute_result"
    }
   ],
   "source": [
    "def sc(l,r):\n",
    "    sa = l*l\n",
    "    ca = 3.142*(r**2)\n",
    "    print(sa)\n",
    "    print(ca)\n",
    "    if sa > ca:\n",
    "        fa = (ca - sa)\n",
    "    else:\n",
    "        fa = (sa - ca)\n",
    "    return abs(fa)  \n",
    "sc(5,5)\n",
    "\n"
   ]
  }
 ],
 "metadata": {
  "kernelspec": {
   "display_name": "Python 2",
   "language": "python",
   "name": "python2"
  },
  "language_info": {
   "codemirror_mode": {
    "name": "ipython",
    "version": 2
   },
   "file_extension": ".py",
   "mimetype": "text/x-python",
   "name": "python",
   "nbconvert_exporter": "python",
   "pygments_lexer": "ipython2",
   "version": "2.7.16"
  }
 },
 "nbformat": 4,
 "nbformat_minor": 2
}
